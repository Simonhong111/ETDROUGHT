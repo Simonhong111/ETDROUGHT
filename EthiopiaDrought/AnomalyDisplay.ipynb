{
 "cells": [
  {
   "cell_type": "code",
   "execution_count": 1,
   "metadata": {},
   "outputs": [],
   "source": [
    "from epdataprocess import *\n",
    "from matplotlib import pyplot as plt\n",
    "months =[\"Jan\",\"Feb\",\"Mar\",\"Apr\",\"May\",\"Jun\",\"Jul\",\"Aug\",\"Sep\",\"Oct\",\"Nov\",\"Dec\"]\n"
   ]
  },
  {
   "cell_type": "code",
   "execution_count": null,
   "metadata": {},
   "outputs": [],
   "source": [
    "# this section is for rainfall anomaly\n",
    "fig = plt.figure(figsize=(20,16))\n",
    "plt.title(\"Rainfall Anomaly\", fontsize=20)\n",
    "\n",
    "for idx,month in enumerate(months):\n",
    "    ax = fig.add_subplot(6, 2, idx+1) # create 12-months subfigure\n",
    "    \n",
    "    anomaly,year  = chirpsAnomaly(r\"D:\\Cornell\\EthiopianDrought\\Chirps2CSV\\EthiopiaRegion.csv\",idx+1)\n",
    "    average = [0 for i in year]\n",
    "    \n",
    "    ax.plot(year,anomaly,label= months[idx])\n",
    "    ax.plot(year,average,\"b-\")\n",
    "    ax.grid(True)\n",
    "    ax.legend()\n",
    "    \n",
    "    xmin, xmax, ymin, ymax = ax.axis()\n",
    "    ax.vlines([2015,2016,2017], ymin, ymax,colors=\"r\")\n",
    "    \n",
    "    ax.set_xticks(year)\n",
    "    ax.set_xticklabels(year) \n",
    "    \n",
    "    for xtick in ax.get_xticklabels():\n",
    "        xtick.set_rotation(90)\n",
    "fig.tight_layout()#调整整体空白 \n",
    "plt.show()\n"
   ]
  },
  {
   "cell_type": "code",
   "execution_count": null,
   "metadata": {},
   "outputs": [],
   "source": [
    "# this section is for sif anomaly\n",
    "fig = plt.figure(figsize=(20,16))\n",
    "# plt.title(\"时间点是{}\".format(timestr), fontsize=20)\n",
    "plt.title(\"SIF Anomaly\")\n",
    "for idx,month in enumerate(months):\n",
    "    ax = fig.add_subplot(6, 2, idx+1) # create 12-months subfigure\n",
    "    \n",
    "    anomaly,year  = sifAnomaly(r\"D:\\Cornell\\EthiopianDrought\\SIFCSV\\EthiopiaRegionSIFAverage.csv\",idx+1)\n",
    "   \n",
    "    average = [0 for i in year]\n",
    "    \n",
    "    ax.plot(year,anomaly,label= months[idx])\n",
    "    ax.plot(year,average,\"b-\")\n",
    "    ax.grid(True)\n",
    "    ax.legend()\n",
    "    \n",
    "    xmin, xmax, ymin, ymax = ax.axis()\n",
    "    ax.vlines([2015,2016,2017], ymin, ymax,colors=\"r\")\n",
    "    \n",
    "    ax.set_xticks(year)\n",
    "    ax.set_xticklabels(year) \n",
    "    \n",
    "    for xtick in ax.get_xticklabels():\n",
    "        xtick.set_rotation(90)\n",
    "\n",
    "fig.tight_layout()#调整整体空白 \n",
    "plt.show()"
   ]
  },
  {
   "cell_type": "code",
   "execution_count": null,
   "metadata": {},
   "outputs": [],
   "source": []
  }
 ],
 "metadata": {
  "kernelspec": {
   "display_name": "Python 3",
   "language": "python",
   "name": "python3"
  },
  "language_info": {
   "codemirror_mode": {
    "name": "ipython",
    "version": 3
   },
   "file_extension": ".py",
   "mimetype": "text/x-python",
   "name": "python",
   "nbconvert_exporter": "python",
   "pygments_lexer": "ipython3",
   "version": "3.7.3"
  }
 },
 "nbformat": 4,
 "nbformat_minor": 2
}
